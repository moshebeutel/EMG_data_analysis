{
 "cells": [
  {
   "cell_type": "markdown",
   "source": [
    "# EMG Deep Learning"
   ],
   "metadata": {
    "collapsed": false,
    "pycharm": {
     "name": "#%% md\n"
    }
   }
  },
  {
   "cell_type": "markdown",
   "source": [
    "Experiments done with the following model types:\n",
    "1. Frame (no window) model - Frames organized as an 3*8 Image like electrodes arrangements. Padded with zeros in the first dimension and circularly in the second dimension\n",
    "2. Time Window -  \"Images\" where the first dimension is time - 1280 time frames -  and the second are 8 medians of 3 electrodes. No padding done for this model.\n",
    "\n",
    "\n",
    "Remarks:\n",
    "1. Only actions 6,7,8,9 - pinch actions - were processed for learning\n",
    "2. Both models were trained with various number of users"
   ],
   "metadata": {
    "collapsed": false
   }
  },
  {
   "cell_type": "markdown",
   "source": [
    "## Frame model"
   ],
   "metadata": {
    "collapsed": false
   }
  },
  {
   "cell_type": "markdown",
   "source": [
    "RawEmgConvnet(\n",
    "  (_conv1): Conv2d(1, 32, kernel_size=(3, 5), stride=(1, 1))\n",
    "  (_pool1): MaxPool2d(kernel_size=(1, 3), stride=(1, 3), padding=0, dilation=1, ceil_mode=False)\n",
    "  (_batch_norm1): BatchNorm2d(32, eps=1e-05, momentum=0.1, affine=True, track_running_stats=True)\n",
    "  (_prelu1): PReLU(num_parameters=32)\n",
    "  (_dropout1): Dropout2d(p=0.5, inplace=False)\n",
    "  (_fc1): Linear(in_features=192, out_features=128, bias=True)\n",
    "  (_batch_norm3): BatchNorm1d(128, eps=1e-05, momentum=0.1, affine=True, track_running_stats=True)\n",
    "  (_prelu3): PReLU(num_parameters=128)\n",
    "  (_dropout3): Dropout(p=0.5, inplace=False)\n",
    "  (_output): Linear(in_features=128, out_features=4, bias=True)\n",
    ")\n",
    "Number Parameters:  26212"
   ],
   "metadata": {
    "collapsed": false
   }
  },
  {
   "cell_type": "markdown",
   "source": [
    "### Sanity check - train and test on same files"
   ],
   "metadata": {
    "collapsed": false
   }
  },
  {
   "cell_type": "markdown",
   "source": [
    "#### Train"
   ],
   "metadata": {
    "collapsed": false
   }
  },
  {
   "cell_type": "markdown",
   "source": [
    "              precision    recall  f1-score   support\n",
    "\n",
    "           6       0.33      0.51      0.40    118351\n",
    "           7       0.36      0.43      0.39    114814\n",
    "           8       0.36      0.34      0.35    116168\n",
    "           9       0.34      0.03      0.06     90667\n",
    "\n",
    "    accuracy                           0.35    440000\n",
    "   macro avg       0.35      0.33      0.30    440000\n",
    "weighted avg       0.35      0.35      0.31    440000"
   ],
   "metadata": {
    "collapsed": false
   }
  },
  {
   "cell_type": "markdown",
   "source": [
    "#### Test"
   ],
   "metadata": {
    "collapsed": false
   }
  },
  {
   "cell_type": "markdown",
   "source": [
    "End of Test Metrics:\n",
    "              precision    recall  f1-score   support\n",
    "\n",
    "           6       0.35      0.45      0.39    118351\n",
    "           7       0.35      0.12      0.18    114814\n",
    "           8       0.33      0.69      0.45    116168\n",
    "           9       0.35      0.03      0.06     90667\n",
    "\n",
    "    accuracy                           0.34    440000\n",
    "   macro avg       0.35      0.32      0.27    440000\n",
    "weighted avg       0.35      0.34      0.28    440000"
   ],
   "metadata": {
    "collapsed": false
   }
  },
  {
   "cell_type": "markdown",
   "source": [
    "### Train and test on same user  - other day"
   ],
   "metadata": {
    "collapsed": false
   }
  },
  {
   "cell_type": "markdown",
   "source": [
    "#### Train"
   ],
   "metadata": {
    "collapsed": false
   }
  },
  {
   "cell_type": "markdown",
   "source": [
    "\n",
    "              precision    recall  f1-score   support\n",
    "           6       0.39      0.06      0.11     56476\n",
    "           7       0.29      0.61      0.39     55060\n",
    "           8       0.30      0.42      0.35     60892\n",
    "           9       0.27      0.04      0.07     47572\n",
    "    accuracy                           0.29    220000\n",
    "   macro avg       0.31      0.28      0.23    220000\n",
    "weighted avg       0.31      0.29      0.24    220000"
   ],
   "metadata": {
    "collapsed": false
   }
  },
  {
   "cell_type": "markdown",
   "source": [
    "#### Test"
   ],
   "metadata": {
    "collapsed": false
   }
  },
  {
   "cell_type": "markdown",
   "source": [
    "              precision    recall  f1-score   support\n",
    "           6       0.39      0.06      0.11     56476\n",
    "           7       0.29      0.61      0.39     55060\n",
    "           8       0.30      0.42      0.35     60892\n",
    "           9       0.27      0.04      0.07     47572\n",
    "    accuracy                           0.29    220000\n",
    "   macro avg       0.31      0.28      0.23    220000\n",
    "weighted avg       0.31      0.29      0.24    220000"
   ],
   "metadata": {
    "collapsed": false
   }
  },
  {
   "cell_type": "markdown",
   "source": [
    "## Time window Model"
   ],
   "metadata": {
    "collapsed": false
   }
  },
  {
   "cell_type": "markdown",
   "source": [
    "RawEmgConvnet(\n",
    "  (_conv1): Conv2d(1, 32, kernel_size=(128, 4), stride=(1, 1))\n",
    "  (_pool1): MaxPool2d(kernel_size=(128, 4), stride=(128, 4), padding=0, dilation=1, ceil_mode=False)\n",
    "  (_batch_norm1): BatchNorm2d(32, eps=1e-05, momentum=0.1, affine=True, track_running_stats=True)\n",
    "  (_prelu1): PReLU(num_parameters=32)\n",
    "  (_dropout1): Dropout2d(p=0.3, inplace=False)\n",
    "  (_fc1): Linear(in_features=288, out_features=64, bias=True)\n",
    "  (_batch_norm3): BatchNorm1d(64, eps=1e-05, momentum=0.1, affine=True, track_running_stats=True)\n",
    "  (_prelu3): PReLU(num_parameters=64)\n",
    "  (_dropout3): Dropout(p=0.3, inplace=False)\n",
    "  (_output): Linear(in_features=64, out_features=4, bias=True)\n",
    ")\n",
    "Number Parameters:  35460"
   ],
   "metadata": {
    "collapsed": false
   }
  },
  {
   "cell_type": "markdown",
   "source": [
    "### Sanity check - train and test on same files"
   ],
   "metadata": {
    "collapsed": false
   }
  },
  {
   "cell_type": "markdown",
   "source": [
    "\n",
    "\n",
    "![sanity check](./assets/2022_03_20_deep_raw_frame_and_window/window_1280_8_medians_sanity.png \"sanity check\")\n",
    "\n"
   ],
   "metadata": {
    "collapsed": false
   }
  },
  {
   "cell_type": "markdown",
   "source": [
    "### Train and test on same user - other day"
   ],
   "metadata": {
    "collapsed": false
   }
  },
  {
   "cell_type": "markdown",
   "source": [
    "![sanity check](./assets/window_1280_8_medians_same_user_other_day.png \"window_1280_8_medians_same_user_other_day\")"
   ],
   "metadata": {
    "collapsed": false
   }
  },
  {
   "cell_type": "markdown",
   "source": [
    "### Train on some users test on other user"
   ],
   "metadata": {
    "collapsed": false
   }
  },
  {
   "cell_type": "markdown",
   "source": [
    "![sanity check](./assets/window_1280_8_medians.png \"window_1280_8_medians\")\n"
   ],
   "metadata": {
    "collapsed": false
   }
  },
  {
   "cell_type": "markdown",
   "source": [],
   "metadata": {
    "collapsed": false
   }
  },
  {
   "cell_type": "code",
   "execution_count": null,
   "outputs": [],
   "source": [],
   "metadata": {
    "collapsed": false,
    "pycharm": {
     "name": "#%%\n"
    }
   }
  }
 ],
 "metadata": {
  "kernelspec": {
   "display_name": "Python 3",
   "language": "python",
   "name": "python3"
  },
  "language_info": {
   "codemirror_mode": {
    "name": "ipython",
    "version": 2
   },
   "file_extension": ".py",
   "mimetype": "text/x-python",
   "name": "python",
   "nbconvert_exporter": "python",
   "pygments_lexer": "ipython2",
   "version": "2.7.6"
  }
 },
 "nbformat": 4,
 "nbformat_minor": 0
}